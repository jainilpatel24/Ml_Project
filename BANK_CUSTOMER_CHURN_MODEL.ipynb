{
 "cells": [
  {
   "cell_type": "markdown",
   "id": "f0d4e9ac",
   "metadata": {},
   "source": [
    "## Title of Project: BANK CUSTOMER CHURN MODEL"
   ]
  },
  {
   "cell_type": "markdown",
   "id": "7e94facb",
   "metadata": {},
   "source": [
    "## **Objective**\n",
    "\n",
    "1. DATA ENCODING \n",
    "2. FEATURE SCALING\n",
    "3. HANDLING IMBALANCE DATA \n",
    "   A. RANDOM UNDER SAMPLING \n",
    "   B. RANDOM OVER SAMPLING \n",
    "4. SUPPORT VECTOR MACHINE CLASSIFIRE \n",
    "5. GRID SEARCH FOR HYPERPARAMETER TUNNING "
   ]
  },
  {
   "cell_type": "markdown",
   "id": "49bd0d63",
   "metadata": {},
   "source": [
    "## **Data Source**\n",
    "\n",
    "Bank Churn Modelling"
   ]
  },
  {
   "cell_type": "markdown",
   "id": "2882869c",
   "metadata": {},
   "source": [
    "## **Import Library**"
   ]
  },
  {
   "cell_type": "code",
   "execution_count": 1,
   "id": "2d2b1c94",
   "metadata": {},
   "outputs": [],
   "source": [
    "import numpy as np\n",
    "import pandas as pd\n",
    "import matplotlib.pyplot as plt \n",
    "import seaborn as sns \n"
   ]
  },
  {
   "cell_type": "code",
   "execution_count": 2,
   "id": "092a0025",
   "metadata": {},
   "outputs": [],
   "source": [
    "df=pd.read_csv('Bank Churn Modelling.csv')"
   ]
  },
  {
   "cell_type": "markdown",
   "id": "e5c6f785",
   "metadata": {},
   "source": [
    "## **Describe Data**"
   ]
  },
  {
   "cell_type": "code",
   "execution_count": 3,
   "id": "0a5b1bef",
   "metadata": {},
   "outputs": [
    {
     "data": {
      "text/html": [
       "<div>\n",
       "<style scoped>\n",
       "    .dataframe tbody tr th:only-of-type {\n",
       "        vertical-align: middle;\n",
       "    }\n",
       "\n",
       "    .dataframe tbody tr th {\n",
       "        vertical-align: top;\n",
       "    }\n",
       "\n",
       "    .dataframe thead th {\n",
       "        text-align: right;\n",
       "    }\n",
       "</style>\n",
       "<table border=\"1\" class=\"dataframe\">\n",
       "  <thead>\n",
       "    <tr style=\"text-align: right;\">\n",
       "      <th></th>\n",
       "      <th>CustomerId</th>\n",
       "      <th>Surname</th>\n",
       "      <th>CreditScore</th>\n",
       "      <th>Geography</th>\n",
       "      <th>Gender</th>\n",
       "      <th>Age</th>\n",
       "      <th>Tenure</th>\n",
       "      <th>Balance</th>\n",
       "      <th>Num Of Products</th>\n",
       "      <th>Has Credit Card</th>\n",
       "      <th>Is Active Member</th>\n",
       "      <th>Estimated Salary</th>\n",
       "      <th>Churn</th>\n",
       "    </tr>\n",
       "  </thead>\n",
       "  <tbody>\n",
       "    <tr>\n",
       "      <th>0</th>\n",
       "      <td>15634602</td>\n",
       "      <td>Hargrave</td>\n",
       "      <td>619</td>\n",
       "      <td>France</td>\n",
       "      <td>Female</td>\n",
       "      <td>42</td>\n",
       "      <td>2</td>\n",
       "      <td>0.00</td>\n",
       "      <td>1</td>\n",
       "      <td>1</td>\n",
       "      <td>1</td>\n",
       "      <td>101348.88</td>\n",
       "      <td>1</td>\n",
       "    </tr>\n",
       "    <tr>\n",
       "      <th>1</th>\n",
       "      <td>15647311</td>\n",
       "      <td>Hill</td>\n",
       "      <td>608</td>\n",
       "      <td>Spain</td>\n",
       "      <td>Female</td>\n",
       "      <td>41</td>\n",
       "      <td>1</td>\n",
       "      <td>83807.86</td>\n",
       "      <td>1</td>\n",
       "      <td>0</td>\n",
       "      <td>1</td>\n",
       "      <td>112542.58</td>\n",
       "      <td>0</td>\n",
       "    </tr>\n",
       "    <tr>\n",
       "      <th>2</th>\n",
       "      <td>15619304</td>\n",
       "      <td>Onio</td>\n",
       "      <td>502</td>\n",
       "      <td>France</td>\n",
       "      <td>Female</td>\n",
       "      <td>42</td>\n",
       "      <td>8</td>\n",
       "      <td>159660.80</td>\n",
       "      <td>3</td>\n",
       "      <td>1</td>\n",
       "      <td>0</td>\n",
       "      <td>113931.57</td>\n",
       "      <td>1</td>\n",
       "    </tr>\n",
       "    <tr>\n",
       "      <th>3</th>\n",
       "      <td>15701354</td>\n",
       "      <td>Boni</td>\n",
       "      <td>699</td>\n",
       "      <td>France</td>\n",
       "      <td>Female</td>\n",
       "      <td>39</td>\n",
       "      <td>1</td>\n",
       "      <td>0.00</td>\n",
       "      <td>2</td>\n",
       "      <td>0</td>\n",
       "      <td>0</td>\n",
       "      <td>93826.63</td>\n",
       "      <td>0</td>\n",
       "    </tr>\n",
       "    <tr>\n",
       "      <th>4</th>\n",
       "      <td>15737888</td>\n",
       "      <td>Mitchell</td>\n",
       "      <td>850</td>\n",
       "      <td>Spain</td>\n",
       "      <td>Female</td>\n",
       "      <td>43</td>\n",
       "      <td>2</td>\n",
       "      <td>125510.82</td>\n",
       "      <td>1</td>\n",
       "      <td>1</td>\n",
       "      <td>1</td>\n",
       "      <td>79084.10</td>\n",
       "      <td>0</td>\n",
       "    </tr>\n",
       "  </tbody>\n",
       "</table>\n",
       "</div>"
      ],
      "text/plain": [
       "   CustomerId   Surname  CreditScore Geography  Gender  Age  Tenure  \\\n",
       "0    15634602  Hargrave          619    France  Female   42       2   \n",
       "1    15647311      Hill          608     Spain  Female   41       1   \n",
       "2    15619304      Onio          502    France  Female   42       8   \n",
       "3    15701354      Boni          699    France  Female   39       1   \n",
       "4    15737888  Mitchell          850     Spain  Female   43       2   \n",
       "\n",
       "     Balance  Num Of Products  Has Credit Card  Is Active Member  \\\n",
       "0       0.00                1                1                 1   \n",
       "1   83807.86                1                0                 1   \n",
       "2  159660.80                3                1                 0   \n",
       "3       0.00                2                0                 0   \n",
       "4  125510.82                1                1                 1   \n",
       "\n",
       "   Estimated Salary  Churn  \n",
       "0         101348.88      1  \n",
       "1         112542.58      0  \n",
       "2         113931.57      1  \n",
       "3          93826.63      0  \n",
       "4          79084.10      0  "
      ]
     },
     "execution_count": 3,
     "metadata": {},
     "output_type": "execute_result"
    }
   ],
   "source": [
    "df.head()"
   ]
  },
  {
   "cell_type": "code",
   "execution_count": 4,
   "id": "a792a6c9",
   "metadata": {},
   "outputs": [
    {
     "name": "stdout",
     "output_type": "stream",
     "text": [
      "<class 'pandas.core.frame.DataFrame'>\n",
      "RangeIndex: 10000 entries, 0 to 9999\n",
      "Data columns (total 13 columns):\n",
      " #   Column            Non-Null Count  Dtype  \n",
      "---  ------            --------------  -----  \n",
      " 0   CustomerId        10000 non-null  int64  \n",
      " 1   Surname           10000 non-null  object \n",
      " 2   CreditScore       10000 non-null  int64  \n",
      " 3   Geography         10000 non-null  object \n",
      " 4   Gender            10000 non-null  object \n",
      " 5   Age               10000 non-null  int64  \n",
      " 6   Tenure            10000 non-null  int64  \n",
      " 7   Balance           10000 non-null  float64\n",
      " 8   Num Of Products   10000 non-null  int64  \n",
      " 9   Has Credit Card   10000 non-null  int64  \n",
      " 10  Is Active Member  10000 non-null  int64  \n",
      " 11  Estimated Salary  10000 non-null  float64\n",
      " 12  Churn             10000 non-null  int64  \n",
      "dtypes: float64(2), int64(8), object(3)\n",
      "memory usage: 1015.8+ KB\n"
     ]
    }
   ],
   "source": [
    "df.info()"
   ]
  },
  {
   "cell_type": "code",
   "execution_count": 5,
   "id": "55ed5628",
   "metadata": {},
   "outputs": [
    {
     "data": {
      "text/plain": [
       "0"
      ]
     },
     "execution_count": 5,
     "metadata": {},
     "output_type": "execute_result"
    }
   ],
   "source": [
    "df.duplicated('CustomerId').sum()"
   ]
  },
  {
   "cell_type": "code",
   "execution_count": 6,
   "id": "d368a555",
   "metadata": {},
   "outputs": [],
   "source": [
    "df=df.set_index('CustomerId')"
   ]
  },
  {
   "cell_type": "code",
   "execution_count": 7,
   "id": "3bfbe143",
   "metadata": {},
   "outputs": [
    {
     "name": "stdout",
     "output_type": "stream",
     "text": [
      "<class 'pandas.core.frame.DataFrame'>\n",
      "Int64Index: 10000 entries, 15634602 to 15628319\n",
      "Data columns (total 12 columns):\n",
      " #   Column            Non-Null Count  Dtype  \n",
      "---  ------            --------------  -----  \n",
      " 0   Surname           10000 non-null  object \n",
      " 1   CreditScore       10000 non-null  int64  \n",
      " 2   Geography         10000 non-null  object \n",
      " 3   Gender            10000 non-null  object \n",
      " 4   Age               10000 non-null  int64  \n",
      " 5   Tenure            10000 non-null  int64  \n",
      " 6   Balance           10000 non-null  float64\n",
      " 7   Num Of Products   10000 non-null  int64  \n",
      " 8   Has Credit Card   10000 non-null  int64  \n",
      " 9   Is Active Member  10000 non-null  int64  \n",
      " 10  Estimated Salary  10000 non-null  float64\n",
      " 11  Churn             10000 non-null  int64  \n",
      "dtypes: float64(2), int64(7), object(3)\n",
      "memory usage: 1015.6+ KB\n"
     ]
    }
   ],
   "source": [
    "df.info()"
   ]
  },
  {
   "cell_type": "markdown",
   "id": "cbcaa55a",
   "metadata": {},
   "source": [
    " ## Encoding"
   ]
  },
  {
   "cell_type": "code",
   "execution_count": 8,
   "id": "ff888438",
   "metadata": {},
   "outputs": [
    {
     "data": {
      "text/plain": [
       "France     5014\n",
       "Germany    2509\n",
       "Spain      2477\n",
       "Name: Geography, dtype: int64"
      ]
     },
     "execution_count": 8,
     "metadata": {},
     "output_type": "execute_result"
    }
   ],
   "source": [
    "df['Geography'].value_counts()"
   ]
  },
  {
   "cell_type": "code",
   "execution_count": 9,
   "id": "7abcf898",
   "metadata": {},
   "outputs": [],
   "source": [
    "df.replace({'Geography':{'France':2,'Germany':1,'Spain':0}},inplace=True)"
   ]
  },
  {
   "cell_type": "code",
   "execution_count": 10,
   "id": "39752eb7",
   "metadata": {},
   "outputs": [
    {
     "data": {
      "text/plain": [
       "Male      5457\n",
       "Female    4543\n",
       "Name: Gender, dtype: int64"
      ]
     },
     "execution_count": 10,
     "metadata": {},
     "output_type": "execute_result"
    }
   ],
   "source": [
    "df['Gender'].value_counts()"
   ]
  },
  {
   "cell_type": "code",
   "execution_count": 11,
   "id": "f31f4af6",
   "metadata": {},
   "outputs": [],
   "source": [
    "df.replace({'Gender':{'Male':0,'Female':1}},inplace=True)"
   ]
  },
  {
   "cell_type": "code",
   "execution_count": 12,
   "id": "f7a816e1",
   "metadata": {},
   "outputs": [
    {
     "data": {
      "text/html": [
       "<div>\n",
       "<style scoped>\n",
       "    .dataframe tbody tr th:only-of-type {\n",
       "        vertical-align: middle;\n",
       "    }\n",
       "\n",
       "    .dataframe tbody tr th {\n",
       "        vertical-align: top;\n",
       "    }\n",
       "\n",
       "    .dataframe thead th {\n",
       "        text-align: right;\n",
       "    }\n",
       "</style>\n",
       "<table border=\"1\" class=\"dataframe\">\n",
       "  <thead>\n",
       "    <tr style=\"text-align: right;\">\n",
       "      <th></th>\n",
       "      <th>Surname</th>\n",
       "      <th>CreditScore</th>\n",
       "      <th>Geography</th>\n",
       "      <th>Gender</th>\n",
       "      <th>Age</th>\n",
       "      <th>Tenure</th>\n",
       "      <th>Balance</th>\n",
       "      <th>Num Of Products</th>\n",
       "      <th>Has Credit Card</th>\n",
       "      <th>Is Active Member</th>\n",
       "      <th>Estimated Salary</th>\n",
       "      <th>Churn</th>\n",
       "    </tr>\n",
       "    <tr>\n",
       "      <th>CustomerId</th>\n",
       "      <th></th>\n",
       "      <th></th>\n",
       "      <th></th>\n",
       "      <th></th>\n",
       "      <th></th>\n",
       "      <th></th>\n",
       "      <th></th>\n",
       "      <th></th>\n",
       "      <th></th>\n",
       "      <th></th>\n",
       "      <th></th>\n",
       "      <th></th>\n",
       "    </tr>\n",
       "  </thead>\n",
       "  <tbody>\n",
       "    <tr>\n",
       "      <th>15634602</th>\n",
       "      <td>Hargrave</td>\n",
       "      <td>619</td>\n",
       "      <td>2</td>\n",
       "      <td>1</td>\n",
       "      <td>42</td>\n",
       "      <td>2</td>\n",
       "      <td>0.00</td>\n",
       "      <td>1</td>\n",
       "      <td>1</td>\n",
       "      <td>1</td>\n",
       "      <td>101348.88</td>\n",
       "      <td>1</td>\n",
       "    </tr>\n",
       "    <tr>\n",
       "      <th>15647311</th>\n",
       "      <td>Hill</td>\n",
       "      <td>608</td>\n",
       "      <td>0</td>\n",
       "      <td>1</td>\n",
       "      <td>41</td>\n",
       "      <td>1</td>\n",
       "      <td>83807.86</td>\n",
       "      <td>1</td>\n",
       "      <td>0</td>\n",
       "      <td>1</td>\n",
       "      <td>112542.58</td>\n",
       "      <td>0</td>\n",
       "    </tr>\n",
       "    <tr>\n",
       "      <th>15619304</th>\n",
       "      <td>Onio</td>\n",
       "      <td>502</td>\n",
       "      <td>2</td>\n",
       "      <td>1</td>\n",
       "      <td>42</td>\n",
       "      <td>8</td>\n",
       "      <td>159660.80</td>\n",
       "      <td>3</td>\n",
       "      <td>1</td>\n",
       "      <td>0</td>\n",
       "      <td>113931.57</td>\n",
       "      <td>1</td>\n",
       "    </tr>\n",
       "    <tr>\n",
       "      <th>15701354</th>\n",
       "      <td>Boni</td>\n",
       "      <td>699</td>\n",
       "      <td>2</td>\n",
       "      <td>1</td>\n",
       "      <td>39</td>\n",
       "      <td>1</td>\n",
       "      <td>0.00</td>\n",
       "      <td>2</td>\n",
       "      <td>0</td>\n",
       "      <td>0</td>\n",
       "      <td>93826.63</td>\n",
       "      <td>0</td>\n",
       "    </tr>\n",
       "    <tr>\n",
       "      <th>15737888</th>\n",
       "      <td>Mitchell</td>\n",
       "      <td>850</td>\n",
       "      <td>0</td>\n",
       "      <td>1</td>\n",
       "      <td>43</td>\n",
       "      <td>2</td>\n",
       "      <td>125510.82</td>\n",
       "      <td>1</td>\n",
       "      <td>1</td>\n",
       "      <td>1</td>\n",
       "      <td>79084.10</td>\n",
       "      <td>0</td>\n",
       "    </tr>\n",
       "  </tbody>\n",
       "</table>\n",
       "</div>"
      ],
      "text/plain": [
       "             Surname  CreditScore  Geography  Gender  Age  Tenure    Balance  \\\n",
       "CustomerId                                                                     \n",
       "15634602    Hargrave          619          2       1   42       2       0.00   \n",
       "15647311        Hill          608          0       1   41       1   83807.86   \n",
       "15619304        Onio          502          2       1   42       8  159660.80   \n",
       "15701354        Boni          699          2       1   39       1       0.00   \n",
       "15737888    Mitchell          850          0       1   43       2  125510.82   \n",
       "\n",
       "            Num Of Products  Has Credit Card  Is Active Member  \\\n",
       "CustomerId                                                       \n",
       "15634602                  1                1                 1   \n",
       "15647311                  1                0                 1   \n",
       "15619304                  3                1                 0   \n",
       "15701354                  2                0                 0   \n",
       "15737888                  1                1                 1   \n",
       "\n",
       "            Estimated Salary  Churn  \n",
       "CustomerId                           \n",
       "15634602           101348.88      1  \n",
       "15647311           112542.58      0  \n",
       "15619304           113931.57      1  \n",
       "15701354            93826.63      0  \n",
       "15737888            79084.10      0  "
      ]
     },
     "execution_count": 12,
     "metadata": {},
     "output_type": "execute_result"
    }
   ],
   "source": [
    "df.head()"
   ]
  },
  {
   "cell_type": "code",
   "execution_count": 13,
   "id": "2251a75e",
   "metadata": {},
   "outputs": [
    {
     "name": "stdout",
     "output_type": "stream",
     "text": [
      "<class 'pandas.core.frame.DataFrame'>\n",
      "Int64Index: 10000 entries, 15634602 to 15628319\n",
      "Data columns (total 12 columns):\n",
      " #   Column            Non-Null Count  Dtype  \n",
      "---  ------            --------------  -----  \n",
      " 0   Surname           10000 non-null  object \n",
      " 1   CreditScore       10000 non-null  int64  \n",
      " 2   Geography         10000 non-null  int64  \n",
      " 3   Gender            10000 non-null  int64  \n",
      " 4   Age               10000 non-null  int64  \n",
      " 5   Tenure            10000 non-null  int64  \n",
      " 6   Balance           10000 non-null  float64\n",
      " 7   Num Of Products   10000 non-null  int64  \n",
      " 8   Has Credit Card   10000 non-null  int64  \n",
      " 9   Is Active Member  10000 non-null  int64  \n",
      " 10  Estimated Salary  10000 non-null  float64\n",
      " 11  Churn             10000 non-null  int64  \n",
      "dtypes: float64(2), int64(9), object(1)\n",
      "memory usage: 1015.6+ KB\n"
     ]
    }
   ],
   "source": [
    "df.info()"
   ]
  },
  {
   "cell_type": "code",
   "execution_count": 14,
   "id": "e849762c",
   "metadata": {},
   "outputs": [
    {
     "data": {
      "text/plain": [
       "1    5084\n",
       "2    4590\n",
       "3     266\n",
       "4      60\n",
       "Name: Num Of Products, dtype: int64"
      ]
     },
     "execution_count": 14,
     "metadata": {},
     "output_type": "execute_result"
    }
   ],
   "source": [
    "df['Num Of Products'].value_counts()"
   ]
  },
  {
   "cell_type": "code",
   "execution_count": 15,
   "id": "632584d8",
   "metadata": {},
   "outputs": [],
   "source": [
    "df.replace({'Num of Products':{1:0,2:1,3:1,4:1}},inplace=True)"
   ]
  },
  {
   "cell_type": "code",
   "execution_count": 16,
   "id": "6872cc43",
   "metadata": {},
   "outputs": [
    {
     "data": {
      "text/plain": [
       "1    5084\n",
       "2    4590\n",
       "3     266\n",
       "4      60\n",
       "Name: Num Of Products, dtype: int64"
      ]
     },
     "execution_count": 16,
     "metadata": {},
     "output_type": "execute_result"
    }
   ],
   "source": [
    "df['Num Of Products'].value_counts()"
   ]
  },
  {
   "cell_type": "code",
   "execution_count": 17,
   "id": "348a1f84",
   "metadata": {},
   "outputs": [
    {
     "data": {
      "text/plain": [
       "1    7055\n",
       "0    2945\n",
       "Name: Has Credit Card, dtype: int64"
      ]
     },
     "execution_count": 17,
     "metadata": {},
     "output_type": "execute_result"
    }
   ],
   "source": [
    "df['Has Credit Card'].value_counts()"
   ]
  },
  {
   "cell_type": "code",
   "execution_count": 18,
   "id": "c3f3e11c",
   "metadata": {},
   "outputs": [
    {
     "data": {
      "text/plain": [
       "0    3117\n",
       "1     500\n",
       "Name: Churn, dtype: int64"
      ]
     },
     "execution_count": 18,
     "metadata": {},
     "output_type": "execute_result"
    }
   ],
   "source": [
    "df.loc[(df['Balance']==0),'Churn'].value_counts()"
   ]
  },
  {
   "cell_type": "code",
   "execution_count": 19,
   "id": "3a95b893",
   "metadata": {},
   "outputs": [],
   "source": [
    "df['Zero Balance']=np.where(df['Balance']>0,1,0)"
   ]
  },
  {
   "cell_type": "code",
   "execution_count": 20,
   "id": "cd6a5188",
   "metadata": {},
   "outputs": [
    {
     "data": {
      "text/plain": [
       "<AxesSubplot:>"
      ]
     },
     "execution_count": 20,
     "metadata": {},
     "output_type": "execute_result"
    },
    {
     "data": {
      "image/png": "[encoded data removed]",
      "text/plain": [
       "<Figure size 640x480 with 1 Axes>"
      ]
     },
     "metadata": {},
     "output_type": "display_data"
    }
   ],
   "source": [
    "df['Zero Balance'].hist()"
   ]
  },
  {
   "cell_type": "markdown",
   "id": "5dfc7a05",
   "metadata": {},
   "source": [
    "## Define Label and Features"
   ]
  },
  {
   "cell_type": "code",
   "execution_count": 21,
   "id": "237624e0",
   "metadata": {},
   "outputs": [
    {
     "data": {
      "text/plain": [
       "Index(['Surname', 'CreditScore', 'Geography', 'Gender', 'Age', 'Tenure',\n",
       "       'Balance', 'Num Of Products', 'Has Credit Card', 'Is Active Member',\n",
       "       'Estimated Salary', 'Churn', 'Zero Balance'],\n",
       "      dtype='object')"
      ]
     },
     "execution_count": 21,
     "metadata": {},
     "output_type": "execute_result"
    }
   ],
   "source": [
    "df.columns"
   ]
  },
  {
   "cell_type": "code",
   "execution_count": 22,
   "id": "3240c374",
   "metadata": {},
   "outputs": [],
   "source": [
    "X = df.drop(['Surname','Churn'],axis=1)"
   ]
  },
  {
   "cell_type": "code",
   "execution_count": 23,
   "id": "c660c607",
   "metadata": {},
   "outputs": [],
   "source": [
    "y = df['Churn']"
   ]
  },
  {
   "cell_type": "code",
   "execution_count": 24,
   "id": "528bd2ac",
   "metadata": {},
   "outputs": [
    {
     "data": {
      "text/plain": [
       "((10000, 11), (10000,))"
      ]
     },
     "execution_count": 24,
     "metadata": {},
     "output_type": "execute_result"
    }
   ],
   "source": [
    "X.shape,y.shape"
   ]
  },
  {
   "cell_type": "code",
   "execution_count": 25,
   "id": "c8d23a73",
   "metadata": {},
   "outputs": [
    {
     "data": {
      "text/plain": [
       "0    7963\n",
       "1    2037\n",
       "Name: Churn, dtype: int64"
      ]
     },
     "execution_count": 25,
     "metadata": {},
     "output_type": "execute_result"
    }
   ],
   "source": [
    "df['Churn'].value_counts()"
   ]
  },
  {
   "cell_type": "markdown",
   "id": "8b436e0b",
   "metadata": {},
   "source": [
    "## Random Under Sampling"
   ]
  },
  {
   "cell_type": "code",
   "execution_count": 26,
   "id": "3cbd8edd",
   "metadata": {},
   "outputs": [],
   "source": [
    "from imblearn.under_sampling import RandomUnderSampler"
   ]
  },
  {
   "cell_type": "code",
   "execution_count": 27,
   "id": "4484c865",
   "metadata": {},
   "outputs": [],
   "source": [
    "rus = RandomUnderSampler(random_state=2529)"
   ]
  },
  {
   "cell_type": "code",
   "execution_count": 28,
   "id": "12043939",
   "metadata": {},
   "outputs": [],
   "source": [
    "X_rus, y_rus = rus.fit_resample(X, y)"
   ]
  },
  {
   "cell_type": "code",
   "execution_count": 29,
   "id": "15c91cdd",
   "metadata": {},
   "outputs": [
    {
     "data": {
      "text/plain": [
       "((4074, 11), (4074,), (10000, 11), (10000,))"
      ]
     },
     "execution_count": 29,
     "metadata": {},
     "output_type": "execute_result"
    }
   ],
   "source": [
    "X_rus.shape, y_rus.shape, X.shape,y.shape"
   ]
  },
  {
   "cell_type": "code",
   "execution_count": 30,
   "id": "ab20ce3a",
   "metadata": {},
   "outputs": [
    {
     "data": {
      "text/plain": [
       "0    7963\n",
       "1    2037\n",
       "Name: Churn, dtype: int64"
      ]
     },
     "execution_count": 30,
     "metadata": {},
     "output_type": "execute_result"
    }
   ],
   "source": [
    "y.value_counts()"
   ]
  },
  {
   "cell_type": "code",
   "execution_count": 31,
   "id": "60efa738",
   "metadata": {},
   "outputs": [
    {
     "data": {
      "text/plain": [
       "0    2037\n",
       "1    2037\n",
       "Name: Churn, dtype: int64"
      ]
     },
     "execution_count": 31,
     "metadata": {},
     "output_type": "execute_result"
    }
   ],
   "source": [
    "y_rus.value_counts()"
   ]
  },
  {
   "cell_type": "markdown",
   "id": "06b6862b",
   "metadata": {},
   "source": [
    "## Random Over Sampling "
   ]
  },
  {
   "cell_type": "code",
   "execution_count": 32,
   "id": "e212c007",
   "metadata": {},
   "outputs": [],
   "source": [
    "from imblearn.over_sampling import RandomOverSampler"
   ]
  },
  {
   "cell_type": "code",
   "execution_count": 33,
   "id": "db49c3fc",
   "metadata": {},
   "outputs": [],
   "source": [
    "ros = RandomOverSampler(random_state=2529)"
   ]
  },
  {
   "cell_type": "code",
   "execution_count": 34,
   "id": "b454ac2b",
   "metadata": {},
   "outputs": [],
   "source": [
    "X_ros,y_ros = ros.fit_resample(X,y)"
   ]
  },
  {
   "cell_type": "code",
   "execution_count": 35,
   "id": "8fb4c659",
   "metadata": {},
   "outputs": [
    {
     "data": {
      "text/plain": [
       "((15926, 11), (15926,), (10000, 11), (10000,))"
      ]
     },
     "execution_count": 35,
     "metadata": {},
     "output_type": "execute_result"
    }
   ],
   "source": [
    "X_ros.shape,y_ros.shape,X.shape,y.shape"
   ]
  },
  {
   "cell_type": "code",
   "execution_count": 36,
   "id": "a0d28279",
   "metadata": {},
   "outputs": [
    {
     "data": {
      "text/plain": [
       "1    7963\n",
       "0    7963\n",
       "Name: Churn, dtype: int64"
      ]
     },
     "execution_count": 36,
     "metadata": {},
     "output_type": "execute_result"
    }
   ],
   "source": [
    "y_ros.value_counts()"
   ]
  },
  {
   "cell_type": "markdown",
   "id": "488355f6",
   "metadata": {},
   "source": [
    "## Train Test Split"
   ]
  },
  {
   "cell_type": "code",
   "execution_count": 37,
   "id": "c4768e11",
   "metadata": {},
   "outputs": [],
   "source": [
    "from sklearn.model_selection import train_test_split"
   ]
  },
  {
   "cell_type": "markdown",
   "id": "2347bd8a",
   "metadata": {},
   "source": [
    "## Split Original Data"
   ]
  },
  {
   "cell_type": "code",
   "execution_count": 38,
   "id": "1b7e8f88",
   "metadata": {},
   "outputs": [],
   "source": [
    "X_train, X_test, y_train, y_test = train_test_split(X, y, test_size=0.3, random_state=25)"
   ]
  },
  {
   "cell_type": "markdown",
   "id": "fcbf31f1",
   "metadata": {},
   "source": [
    "## Split Random Under Sample Data"
   ]
  },
  {
   "cell_type": "code",
   "execution_count": 39,
   "id": "003152ec",
   "metadata": {},
   "outputs": [],
   "source": [
    "X_train_rus, X_test_rus, y_train_rus, y_test_rus = train_test_split(X_rus, y_rus, test_size=0.3, random_state=25)"
   ]
  },
  {
   "cell_type": "markdown",
   "id": "0498b557",
   "metadata": {},
   "source": [
    "## Split Random Over Sample Data"
   ]
  },
  {
   "cell_type": "code",
   "execution_count": 40,
   "id": "822df916",
   "metadata": {},
   "outputs": [],
   "source": [
    "X_train_ros, X_test_ros, y_train_ros, y_test_ros = train_test_split(X_ros, y_ros, test_size=0.3, random_state=25)"
   ]
  },
  {
   "cell_type": "markdown",
   "id": "eec16722",
   "metadata": {},
   "source": [
    "## Standardize Feature"
   ]
  },
  {
   "cell_type": "code",
   "execution_count": 41,
   "id": "260c76a5",
   "metadata": {},
   "outputs": [],
   "source": [
    "from sklearn.preprocessing import StandardScaler"
   ]
  },
  {
   "cell_type": "code",
   "execution_count": 42,
   "id": "14d59b2f",
   "metadata": {},
   "outputs": [],
   "source": [
    "sc = StandardScaler()"
   ]
  },
  {
   "cell_type": "markdown",
   "id": "8855139b",
   "metadata": {},
   "source": [
    "## Standardize Original Data"
   ]
  },
  {
   "cell_type": "code",
   "execution_count": 43,
   "id": "2721dbfe",
   "metadata": {},
   "outputs": [],
   "source": [
    "X_train[['CreditScore','Age','Tenure','Balance','Estimated Salary']]=sc.fit_transform(X_train[['CreditScore','Age','Tenure','Balance','Estimated Salary']])\n",
    "X_test[['CreditScore','Age','Tenure','Balance','Estimated Salary']]=sc.fit_transform(X_test[['CreditScore','Age','Tenure','Balance','Estimated Salary']])"
   ]
  },
  {
   "cell_type": "markdown",
   "id": "15ece769",
   "metadata": {},
   "source": [
    "## Standardize Random Under Sample  Data"
   ]
  },
  {
   "cell_type": "code",
   "execution_count": 51,
   "id": "a3505430",
   "metadata": {},
   "outputs": [],
   "source": [
    "X_train_rus[['CreditScore','Age','Tenure','Balance','Estimated Salary']]=sc.fit_transform(X_train_rus[['CreditScore','Age','Tenure','Balance','Estimated Salary']])\n",
    "X_test_rus[['CreditScore','Age','Tenure','Balance','Estimated Salary']]=sc.fit_transform(X_test_rus[['CreditScore','Age','Tenure','Balance','Estimated Salary']])"
   ]
  },
  {
   "cell_type": "markdown",
   "id": "06b6e4f7",
   "metadata": {},
   "source": [
    "## Standardize Random Over Sample Data"
   ]
  },
  {
   "cell_type": "code",
   "execution_count": 52,
   "id": "d101c5a8",
   "metadata": {},
   "outputs": [],
   "source": [
    "X_train_ros[['CreditScore','Age','Tenure','Balance','Estimated Salary']]=sc.fit_transform(X_train_ros[['CreditScore','Age','Tenure','Balance','Estimated Salary']])\n",
    "X_test_ros[['CreditScore','Age','Tenure','Balance','Estimated Salary']]=sc.fit_transform(X_test_ros[['CreditScore','Age','Tenure','Balance','Estimated Salary']])"
   ]
  },
  {
   "cell_type": "markdown",
   "id": "62b762f5",
   "metadata": {},
   "source": [
    "###"
   ]
  },
  {
   "cell_type": "markdown",
   "id": "759a0d0e",
   "metadata": {},
   "source": [
    "## Suport Vector Machine Classifier"
   ]
  },
  {
   "cell_type": "code",
   "execution_count": 53,
   "id": "23de2849",
   "metadata": {},
   "outputs": [],
   "source": [
    "from sklearn.svm import SVC"
   ]
  },
  {
   "cell_type": "code",
   "execution_count": 45,
   "id": "75bafdda",
   "metadata": {},
   "outputs": [],
   "source": [
    "svc=SVC()"
   ]
  },
  {
   "cell_type": "code",
   "execution_count": 46,
   "id": "e778f0e6",
   "metadata": {},
   "outputs": [
    {
     "data": {
      "text/plain": [
       "SVC()"
      ]
     },
     "execution_count": 46,
     "metadata": {},
     "output_type": "execute_result"
    }
   ],
   "source": [
    "svc.fit(X_train,y_train)"
   ]
  },
  {
   "cell_type": "code",
   "execution_count": 47,
   "id": "2b928a25",
   "metadata": {},
   "outputs": [],
   "source": [
    "y_pred = svc.predict(X_test)"
   ]
  },
  {
   "cell_type": "markdown",
   "id": "2d80f25e",
   "metadata": {},
   "source": [
    "## Model Accuracy "
   ]
  },
  {
   "cell_type": "code",
   "execution_count": 48,
   "id": "f35fc950",
   "metadata": {},
   "outputs": [],
   "source": [
    "from sklearn.metrics import confusion_matrix, classification_report"
   ]
  },
  {
   "cell_type": "code",
   "execution_count": 49,
   "id": "344e456f",
   "metadata": {},
   "outputs": [
    {
     "data": {
      "text/plain": [
       "array([[2378,   41],\n",
       "       [ 376,  205]], dtype=int64)"
      ]
     },
     "execution_count": 49,
     "metadata": {},
     "output_type": "execute_result"
    }
   ],
   "source": [
    "confusion_matrix(y_test,y_pred)"
   ]
  },
  {
   "cell_type": "code",
   "execution_count": 50,
   "id": "f114ef6d",
   "metadata": {},
   "outputs": [
    {
     "name": "stdout",
     "output_type": "stream",
     "text": [
      "              precision    recall  f1-score   support\n",
      "\n",
      "           0       0.86      0.98      0.92      2419\n",
      "           1       0.83      0.35      0.50       581\n",
      "\n",
      "    accuracy                           0.86      3000\n",
      "   macro avg       0.85      0.67      0.71      3000\n",
      "weighted avg       0.86      0.86      0.84      3000\n",
      "\n"
     ]
    }
   ],
   "source": [
    "print(classification_report(y_test,y_pred))"
   ]
  },
  {
   "cell_type": "markdown",
   "id": "18778827",
   "metadata": {},
   "source": [
    "## Hyper-parameter Tunning (Original Data)"
   ]
  },
  {
   "cell_type": "code",
   "execution_count": 65,
   "id": "7a830bc5",
   "metadata": {},
   "outputs": [],
   "source": [
    "from sklearn.model_selection import GridSearchCV"
   ]
  },
  {
   "cell_type": "code",
   "execution_count": 66,
   "id": "477c2a43",
   "metadata": {},
   "outputs": [],
   "source": [
    "param_frid = {'C': [0.1,1,10],\n",
    "             'gamma':[1,0.1,0.01],\n",
    "             'kernel': ['rbf'],\n",
    "             'class_weight': ['balanced']}"
   ]
  },
  {
   "cell_type": "code",
   "execution_count": 67,
   "id": "280c01ee",
   "metadata": {},
   "outputs": [
    {
     "name": "stdout",
     "output_type": "stream",
     "text": [
      "Fitting 2 folds for each of 9 candidates, totalling 18 fits\n",
      "[CV] END ..C=0.1, class_weight=balanced, gamma=1, kernel=rbf; total time=   2.5s\n",
      "[CV] END ..C=0.1, class_weight=balanced, gamma=1, kernel=rbf; total time=   2.5s\n",
      "[CV] END C=0.1, class_weight=balanced, gamma=0.1, kernel=rbf; total time=   2.0s\n",
      "[CV] END C=0.1, class_weight=balanced, gamma=0.1, kernel=rbf; total time=   1.6s\n",
      "[CV] END C=0.1, class_weight=balanced, gamma=0.01, kernel=rbf; total time=   1.9s\n",
      "[CV] END C=0.1, class_weight=balanced, gamma=0.01, kernel=rbf; total time=   2.0s\n",
      "[CV] END ....C=1, class_weight=balanced, gamma=1, kernel=rbf; total time=   3.8s\n",
      "[CV] END ....C=1, class_weight=balanced, gamma=1, kernel=rbf; total time=   2.0s\n",
      "[CV] END ..C=1, class_weight=balanced, gamma=0.1, kernel=rbf; total time=   1.4s\n",
      "[CV] END ..C=1, class_weight=balanced, gamma=0.1, kernel=rbf; total time=   1.3s\n",
      "[CV] END .C=1, class_weight=balanced, gamma=0.01, kernel=rbf; total time=   1.7s\n",
      "[CV] END .C=1, class_weight=balanced, gamma=0.01, kernel=rbf; total time=   1.6s\n",
      "[CV] END ...C=10, class_weight=balanced, gamma=1, kernel=rbf; total time=   2.1s\n",
      "[CV] END ...C=10, class_weight=balanced, gamma=1, kernel=rbf; total time=   2.1s\n",
      "[CV] END .C=10, class_weight=balanced, gamma=0.1, kernel=rbf; total time=   1.9s\n",
      "[CV] END .C=10, class_weight=balanced, gamma=0.1, kernel=rbf; total time=   1.5s\n",
      "[CV] END C=10, class_weight=balanced, gamma=0.01, kernel=rbf; total time=   1.6s\n",
      "[CV] END C=10, class_weight=balanced, gamma=0.01, kernel=rbf; total time=   1.4s\n"
     ]
    },
    {
     "data": {
      "text/plain": [
       "GridSearchCV(cv=2, estimator=SVC(),\n",
       "             param_grid={'C': [0.1, 1, 10], 'class_weight': ['balanced'],\n",
       "                         'gamma': [1, 0.1, 0.01], 'kernel': ['rbf']},\n",
       "             verbose=2)"
      ]
     },
     "execution_count": 67,
     "metadata": {},
     "output_type": "execute_result"
    }
   ],
   "source": [
    "grid = GridSearchCV(SVC(),param_frid,refit=True,verbose=2, cv= 2)\n",
    "grid.fit(X_train,y_train)"
   ]
  },
  {
   "cell_type": "code",
   "execution_count": 68,
   "id": "25dd89d9",
   "metadata": {},
   "outputs": [
    {
     "name": "stdout",
     "output_type": "stream",
     "text": [
      "SVC(C=10, class_weight='balanced', gamma=1)\n"
     ]
    }
   ],
   "source": [
    "print(grid.best_estimator_)"
   ]
  },
  {
   "cell_type": "code",
   "execution_count": 69,
   "id": "145d08ae",
   "metadata": {},
   "outputs": [],
   "source": [
    "grid_predictions = grid.predict(X_test)"
   ]
  },
  {
   "cell_type": "code",
   "execution_count": 70,
   "id": "af9ab46b",
   "metadata": {},
   "outputs": [
    {
     "data": {
      "text/plain": [
       "array([[2203,  216],\n",
       "       [ 362,  219]], dtype=int64)"
      ]
     },
     "execution_count": 70,
     "metadata": {},
     "output_type": "execute_result"
    }
   ],
   "source": [
    "confusion_matrix(y_test,grid_predictions)"
   ]
  },
  {
   "cell_type": "code",
   "execution_count": 72,
   "id": "f19c095a",
   "metadata": {},
   "outputs": [
    {
     "name": "stdout",
     "output_type": "stream",
     "text": [
      "              precision    recall  f1-score   support\n",
      "\n",
      "           0       0.86      0.91      0.88      2419\n",
      "           1       0.50      0.38      0.43       581\n",
      "\n",
      "    accuracy                           0.81      3000\n",
      "   macro avg       0.68      0.64      0.66      3000\n",
      "weighted avg       0.79      0.81      0.80      3000\n",
      "\n"
     ]
    }
   ],
   "source": [
    "print(classification_report(y_test, grid_predictions))"
   ]
  },
  {
   "cell_type": "markdown",
   "id": "99a003e4",
   "metadata": {},
   "source": [
    "## Model with Under Sampling "
   ]
  },
  {
   "cell_type": "code",
   "execution_count": 64,
   "id": "b8e86a76",
   "metadata": {},
   "outputs": [],
   "source": [
    "svc_rus = SVC()"
   ]
  },
  {
   "cell_type": "code",
   "execution_count": 55,
   "id": "43f4285f",
   "metadata": {},
   "outputs": [
    {
     "data": {
      "text/plain": [
       "SVC()"
      ]
     },
     "execution_count": 55,
     "metadata": {},
     "output_type": "execute_result"
    }
   ],
   "source": [
    "svc_rus.fit(X_train_rus,y_train_rus)"
   ]
  },
  {
   "cell_type": "code",
   "execution_count": 56,
   "id": "231025a1",
   "metadata": {},
   "outputs": [],
   "source": [
    "y_pred_rus = svc_rus.predict(X_test_rus)"
   ]
  },
  {
   "cell_type": "markdown",
   "id": "0e45eb2c",
   "metadata": {},
   "source": [
    "## Model Accuracy for Under Sampling "
   ]
  },
  {
   "cell_type": "code",
   "execution_count": 57,
   "id": "62ee91dd",
   "metadata": {},
   "outputs": [
    {
     "data": {
      "text/plain": [
       "array([[496, 107],\n",
       "       [173, 447]], dtype=int64)"
      ]
     },
     "execution_count": 57,
     "metadata": {},
     "output_type": "execute_result"
    }
   ],
   "source": [
    "confusion_matrix(y_test_rus,y_pred_rus)"
   ]
  },
  {
   "cell_type": "code",
   "execution_count": 58,
   "id": "5d6c643d",
   "metadata": {},
   "outputs": [
    {
     "name": "stdout",
     "output_type": "stream",
     "text": [
      "              precision    recall  f1-score   support\n",
      "\n",
      "           0       0.74      0.82      0.78       603\n",
      "           1       0.81      0.72      0.76       620\n",
      "\n",
      "    accuracy                           0.77      1223\n",
      "   macro avg       0.77      0.77      0.77      1223\n",
      "weighted avg       0.77      0.77      0.77      1223\n",
      "\n"
     ]
    }
   ],
   "source": [
    "print(classification_report(y_test_rus, y_pred_rus))"
   ]
  },
  {
   "cell_type": "markdown",
   "id": "f909b9a2",
   "metadata": {},
   "source": [
    "## Hyper-parameter Tunning  for Under Sampling Model"
   ]
  },
  {
   "cell_type": "code",
   "execution_count": 73,
   "id": "f35e9c54",
   "metadata": {},
   "outputs": [],
   "source": [
    "param_frid = {'C': [0.1,1,10],\n",
    "             'gamma':[1,0.1,0.01],\n",
    "             'kernel': ['rbf'],\n",
    "             'class_weight': ['balanced']}"
   ]
  },
  {
   "cell_type": "code",
   "execution_count": 86,
   "id": "a5a81a5b",
   "metadata": {},
   "outputs": [
    {
     "name": "stdout",
     "output_type": "stream",
     "text": [
      "Fitting 2 folds for each of 9 candidates, totalling 18 fits\n",
      "[CV] END ..C=0.1, class_weight=balanced, gamma=1, kernel=rbf; total time=   0.3s\n",
      "[CV] END ..C=0.1, class_weight=balanced, gamma=1, kernel=rbf; total time=   0.3s\n",
      "[CV] END C=0.1, class_weight=balanced, gamma=0.1, kernel=rbf; total time=   0.2s\n",
      "[CV] END C=0.1, class_weight=balanced, gamma=0.1, kernel=rbf; total time=   0.2s\n",
      "[CV] END C=0.1, class_weight=balanced, gamma=0.01, kernel=rbf; total time=   0.3s\n",
      "[CV] END C=0.1, class_weight=balanced, gamma=0.01, kernel=rbf; total time=   0.3s\n",
      "[CV] END ....C=1, class_weight=balanced, gamma=1, kernel=rbf; total time=   0.3s\n",
      "[CV] END ....C=1, class_weight=balanced, gamma=1, kernel=rbf; total time=   0.3s\n",
      "[CV] END ..C=1, class_weight=balanced, gamma=0.1, kernel=rbf; total time=   0.2s\n",
      "[CV] END ..C=1, class_weight=balanced, gamma=0.1, kernel=rbf; total time=   0.6s\n",
      "[CV] END .C=1, class_weight=balanced, gamma=0.01, kernel=rbf; total time=   0.4s\n",
      "[CV] END .C=1, class_weight=balanced, gamma=0.01, kernel=rbf; total time=   0.3s\n",
      "[CV] END ...C=10, class_weight=balanced, gamma=1, kernel=rbf; total time=   0.5s\n",
      "[CV] END ...C=10, class_weight=balanced, gamma=1, kernel=rbf; total time=   0.3s\n",
      "[CV] END .C=10, class_weight=balanced, gamma=0.1, kernel=rbf; total time=   0.2s\n",
      "[CV] END .C=10, class_weight=balanced, gamma=0.1, kernel=rbf; total time=   0.2s\n",
      "[CV] END C=10, class_weight=balanced, gamma=0.01, kernel=rbf; total time=   0.3s\n",
      "[CV] END C=10, class_weight=balanced, gamma=0.01, kernel=rbf; total time=   0.3s\n"
     ]
    },
    {
     "data": {
      "text/plain": [
       "GridSearchCV(cv=2, estimator=SVC(),\n",
       "             param_grid={'C': [0.1, 1, 10], 'class_weight': ['balanced'],\n",
       "                         'gamma': [1, 0.1, 0.01], 'kernel': ['rbf']},\n",
       "             verbose=2)"
      ]
     },
     "execution_count": 86,
     "metadata": {},
     "output_type": "execute_result"
    }
   ],
   "source": [
    "grid_rus = GridSearchCV(SVC(),param_frid,refit=True,verbose=2, cv= 2)\n",
    "grid_rus.fit(X_train_rus,y_train_rus)"
   ]
  },
  {
   "cell_type": "code",
   "execution_count": 75,
   "id": "b0b543cb",
   "metadata": {},
   "outputs": [
    {
     "name": "stdout",
     "output_type": "stream",
     "text": [
      "SVC(C=10, class_weight='balanced', gamma=0.1)\n"
     ]
    }
   ],
   "source": [
    "print(grid_rus.best_estimator_)"
   ]
  },
  {
   "cell_type": "code",
   "execution_count": 76,
   "id": "d8791dba",
   "metadata": {},
   "outputs": [],
   "source": [
    "grid_predictions_rus = grid_rus.predict(X_test_rus)"
   ]
  },
  {
   "cell_type": "code",
   "execution_count": 77,
   "id": "c38deffa",
   "metadata": {},
   "outputs": [
    {
     "data": {
      "text/plain": [
       "array([[477, 126],\n",
       "       [155, 465]], dtype=int64)"
      ]
     },
     "execution_count": 77,
     "metadata": {},
     "output_type": "execute_result"
    }
   ],
   "source": [
    "confusion_matrix(y_test_rus,grid_predictions_rus)"
   ]
  },
  {
   "cell_type": "code",
   "execution_count": 78,
   "id": "5f915708",
   "metadata": {},
   "outputs": [
    {
     "name": "stdout",
     "output_type": "stream",
     "text": [
      "              precision    recall  f1-score   support\n",
      "\n",
      "           0       0.75      0.79      0.77       603\n",
      "           1       0.79      0.75      0.77       620\n",
      "\n",
      "    accuracy                           0.77      1223\n",
      "   macro avg       0.77      0.77      0.77      1223\n",
      "weighted avg       0.77      0.77      0.77      1223\n",
      "\n"
     ]
    }
   ],
   "source": [
    "print(classification_report(y_test_rus, grid_predictions_rus))"
   ]
  },
  {
   "cell_type": "markdown",
   "id": "90f14124",
   "metadata": {},
   "source": [
    "## Model with Over Sampling "
   ]
  },
  {
   "cell_type": "code",
   "execution_count": 59,
   "id": "8ae5379a",
   "metadata": {},
   "outputs": [],
   "source": [
    "svc_ros = SVC()"
   ]
  },
  {
   "cell_type": "code",
   "execution_count": 60,
   "id": "c57c67ef",
   "metadata": {},
   "outputs": [
    {
     "data": {
      "text/plain": [
       "SVC()"
      ]
     },
     "execution_count": 60,
     "metadata": {},
     "output_type": "execute_result"
    }
   ],
   "source": [
    "svc_ros.fit(X_train_ros,y_train_ros)"
   ]
  },
  {
   "cell_type": "code",
   "execution_count": 61,
   "id": "2040a6ac",
   "metadata": {},
   "outputs": [],
   "source": [
    "y_pred_ros = svc_ros.predict(X_test_ros)"
   ]
  },
  {
   "cell_type": "markdown",
   "id": "8205c41e",
   "metadata": {},
   "source": [
    "## Model Accuracy for Over Sampling "
   ]
  },
  {
   "cell_type": "code",
   "execution_count": 62,
   "id": "a4cf79c4",
   "metadata": {},
   "outputs": [
    {
     "data": {
      "text/plain": [
       "array([[1944,  482],\n",
       "       [ 527, 1825]], dtype=int64)"
      ]
     },
     "execution_count": 62,
     "metadata": {},
     "output_type": "execute_result"
    }
   ],
   "source": [
    "confusion_matrix(y_test_ros,y_pred_ros)"
   ]
  },
  {
   "cell_type": "code",
   "execution_count": 63,
   "id": "b2b519ed",
   "metadata": {},
   "outputs": [
    {
     "name": "stdout",
     "output_type": "stream",
     "text": [
      "              precision    recall  f1-score   support\n",
      "\n",
      "           0       0.79      0.80      0.79      2426\n",
      "           1       0.79      0.78      0.78      2352\n",
      "\n",
      "    accuracy                           0.79      4778\n",
      "   macro avg       0.79      0.79      0.79      4778\n",
      "weighted avg       0.79      0.79      0.79      4778\n",
      "\n"
     ]
    }
   ],
   "source": [
    "print(classification_report(y_test_ros, y_pred_ros))"
   ]
  },
  {
   "cell_type": "markdown",
   "id": "b02b5c41",
   "metadata": {},
   "source": [
    "## Hyper-parameter Tunning  for Over Sampling Model"
   ]
  },
  {
   "cell_type": "code",
   "execution_count": 87,
   "id": "6ef795f6",
   "metadata": {},
   "outputs": [],
   "source": [
    "param_frid = {'C': [0.1,1,10],\n",
    "             'gamma':[1,0.1,0.01],\n",
    "             'kernel': ['rbf'],\n",
    "             'class_weight': ['balanced']}"
   ]
  },
  {
   "cell_type": "code",
   "execution_count": 88,
   "id": "85326d2c",
   "metadata": {},
   "outputs": [
    {
     "name": "stdout",
     "output_type": "stream",
     "text": [
      "Fitting 2 folds for each of 9 candidates, totalling 18 fits\n",
      "[CV] END ..C=0.1, class_weight=balanced, gamma=1, kernel=rbf; total time=   6.1s\n",
      "[CV] END ..C=0.1, class_weight=balanced, gamma=1, kernel=rbf; total time=   6.9s\n",
      "[CV] END C=0.1, class_weight=balanced, gamma=0.1, kernel=rbf; total time=   4.4s\n",
      "[CV] END C=0.1, class_weight=balanced, gamma=0.1, kernel=rbf; total time=   4.4s\n",
      "[CV] END C=0.1, class_weight=balanced, gamma=0.01, kernel=rbf; total time=   5.8s\n",
      "[CV] END C=0.1, class_weight=balanced, gamma=0.01, kernel=rbf; total time=   5.1s\n",
      "[CV] END ....C=1, class_weight=balanced, gamma=1, kernel=rbf; total time=   5.0s\n",
      "[CV] END ....C=1, class_weight=balanced, gamma=1, kernel=rbf; total time=   5.7s\n",
      "[CV] END ..C=1, class_weight=balanced, gamma=0.1, kernel=rbf; total time=   3.7s\n",
      "[CV] END ..C=1, class_weight=balanced, gamma=0.1, kernel=rbf; total time=   3.8s\n",
      "[CV] END .C=1, class_weight=balanced, gamma=0.01, kernel=rbf; total time=   4.5s\n",
      "[CV] END .C=1, class_weight=balanced, gamma=0.01, kernel=rbf; total time=   4.8s\n",
      "[CV] END ...C=10, class_weight=balanced, gamma=1, kernel=rbf; total time=   4.5s\n",
      "[CV] END ...C=10, class_weight=balanced, gamma=1, kernel=rbf; total time=   4.6s\n",
      "[CV] END .C=10, class_weight=balanced, gamma=0.1, kernel=rbf; total time=   4.7s\n",
      "[CV] END .C=10, class_weight=balanced, gamma=0.1, kernel=rbf; total time=   3.9s\n",
      "[CV] END C=10, class_weight=balanced, gamma=0.01, kernel=rbf; total time=   4.3s\n",
      "[CV] END C=10, class_weight=balanced, gamma=0.01, kernel=rbf; total time=   4.4s\n"
     ]
    },
    {
     "data": {
      "text/plain": [
       "GridSearchCV(cv=2, estimator=SVC(),\n",
       "             param_grid={'C': [0.1, 1, 10], 'class_weight': ['balanced'],\n",
       "                         'gamma': [1, 0.1, 0.01], 'kernel': ['rbf']},\n",
       "             verbose=2)"
      ]
     },
     "execution_count": 88,
     "metadata": {},
     "output_type": "execute_result"
    }
   ],
   "source": [
    "grid_ros = GridSearchCV(SVC(),param_frid,refit=True,verbose=2, cv= 2)\n",
    "grid_ros.fit(X_train_ros,y_train_ros)"
   ]
  },
  {
   "cell_type": "code",
   "execution_count": 89,
   "id": "96b3aebb",
   "metadata": {},
   "outputs": [
    {
     "name": "stdout",
     "output_type": "stream",
     "text": [
      "SVC(C=10, class_weight='balanced', gamma=1)\n"
     ]
    }
   ],
   "source": [
    "print(grid_ros.best_estimator_)"
   ]
  },
  {
   "cell_type": "code",
   "execution_count": 90,
   "id": "4d0d352d",
   "metadata": {},
   "outputs": [],
   "source": [
    "grid_predictions_ros = grid_ros.predict(X_test_ros)"
   ]
  },
  {
   "cell_type": "code",
   "execution_count": 91,
   "id": "70525c8e",
   "metadata": {},
   "outputs": [
    {
     "data": {
      "text/plain": [
       "array([[2109,  317],\n",
       "       [  85, 2267]], dtype=int64)"
      ]
     },
     "execution_count": 91,
     "metadata": {},
     "output_type": "execute_result"
    }
   ],
   "source": [
    "confusion_matrix(y_test_ros,grid_predictions_ros)"
   ]
  },
  {
   "cell_type": "code",
   "execution_count": 92,
   "id": "eb76edc5",
   "metadata": {},
   "outputs": [
    {
     "name": "stdout",
     "output_type": "stream",
     "text": [
      "              precision    recall  f1-score   support\n",
      "\n",
      "           0       0.96      0.87      0.91      2426\n",
      "           1       0.88      0.96      0.92      2352\n",
      "\n",
      "    accuracy                           0.92      4778\n",
      "   macro avg       0.92      0.92      0.92      4778\n",
      "weighted avg       0.92      0.92      0.92      4778\n",
      "\n"
     ]
    }
   ],
   "source": [
    "print(classification_report(y_test_ros, grid_predictions_ros))"
   ]
  },
  {
   "cell_type": "markdown",
   "id": "84808cf8",
   "metadata": {},
   "source": [
    "# Lasr Compare"
   ]
  },
  {
   "cell_type": "markdown",
   "id": "6092173a",
   "metadata": {},
   "source": [
    "### Original Data"
   ]
  },
  {
   "cell_type": "code",
   "execution_count": 93,
   "id": "b1ad57aa",
   "metadata": {},
   "outputs": [
    {
     "name": "stdout",
     "output_type": "stream",
     "text": [
      "              precision    recall  f1-score   support\n",
      "\n",
      "           0       0.86      0.98      0.92      2419\n",
      "           1       0.83      0.35      0.50       581\n",
      "\n",
      "    accuracy                           0.86      3000\n",
      "   macro avg       0.85      0.67      0.71      3000\n",
      "weighted avg       0.86      0.86      0.84      3000\n",
      "\n"
     ]
    }
   ],
   "source": [
    "print(classification_report(y_test,y_pred))"
   ]
  },
  {
   "cell_type": "code",
   "execution_count": 94,
   "id": "aed4b6c3",
   "metadata": {},
   "outputs": [
    {
     "name": "stdout",
     "output_type": "stream",
     "text": [
      "              precision    recall  f1-score   support\n",
      "\n",
      "           0       0.86      0.91      0.88      2419\n",
      "           1       0.50      0.38      0.43       581\n",
      "\n",
      "    accuracy                           0.81      3000\n",
      "   macro avg       0.68      0.64      0.66      3000\n",
      "weighted avg       0.79      0.81      0.80      3000\n",
      "\n"
     ]
    }
   ],
   "source": [
    "print(classification_report(y_test, grid_predictions))"
   ]
  },
  {
   "cell_type": "markdown",
   "id": "a5a5dff3",
   "metadata": {},
   "source": [
    "## Under Sampling Data"
   ]
  },
  {
   "cell_type": "code",
   "execution_count": 95,
   "id": "f77ccd7f",
   "metadata": {},
   "outputs": [
    {
     "name": "stdout",
     "output_type": "stream",
     "text": [
      "              precision    recall  f1-score   support\n",
      "\n",
      "           0       0.74      0.82      0.78       603\n",
      "           1       0.81      0.72      0.76       620\n",
      "\n",
      "    accuracy                           0.77      1223\n",
      "   macro avg       0.77      0.77      0.77      1223\n",
      "weighted avg       0.77      0.77      0.77      1223\n",
      "\n"
     ]
    }
   ],
   "source": [
    "print(classification_report(y_test_rus, y_pred_rus))"
   ]
  },
  {
   "cell_type": "code",
   "execution_count": 96,
   "id": "0367f0bc",
   "metadata": {},
   "outputs": [
    {
     "name": "stdout",
     "output_type": "stream",
     "text": [
      "              precision    recall  f1-score   support\n",
      "\n",
      "           0       0.75      0.79      0.77       603\n",
      "           1       0.79      0.75      0.77       620\n",
      "\n",
      "    accuracy                           0.77      1223\n",
      "   macro avg       0.77      0.77      0.77      1223\n",
      "weighted avg       0.77      0.77      0.77      1223\n",
      "\n"
     ]
    }
   ],
   "source": [
    "print(classification_report(y_test_rus, grid_predictions_rus))"
   ]
  },
  {
   "cell_type": "markdown",
   "id": "e72da432",
   "metadata": {},
   "source": [
    "## Over Sampling Data"
   ]
  },
  {
   "cell_type": "code",
   "execution_count": 97,
   "id": "2bfe7ca1",
   "metadata": {},
   "outputs": [
    {
     "name": "stdout",
     "output_type": "stream",
     "text": [
      "              precision    recall  f1-score   support\n",
      "\n",
      "           0       0.79      0.80      0.79      2426\n",
      "           1       0.79      0.78      0.78      2352\n",
      "\n",
      "    accuracy                           0.79      4778\n",
      "   macro avg       0.79      0.79      0.79      4778\n",
      "weighted avg       0.79      0.79      0.79      4778\n",
      "\n"
     ]
    }
   ],
   "source": [
    "print(classification_report(y_test_ros, y_pred_ros))"
   ]
  },
  {
   "cell_type": "code",
   "execution_count": 98,
   "id": "ba301e3d",
   "metadata": {},
   "outputs": [
    {
     "name": "stdout",
     "output_type": "stream",
     "text": [
      "              precision    recall  f1-score   support\n",
      "\n",
      "           0       0.96      0.87      0.91      2426\n",
      "           1       0.88      0.96      0.92      2352\n",
      "\n",
      "    accuracy                           0.92      4778\n",
      "   macro avg       0.92      0.92      0.92      4778\n",
      "weighted avg       0.92      0.92      0.92      4778\n",
      "\n"
     ]
    }
   ],
   "source": [
    "print(classification_report(y_test_ros, grid_predictions_ros))"
   ]
  },
  {
   "cell_type": "code",
   "execution_count": null,
   "id": "4995a6d4",
   "metadata": {},
   "outputs": [],
   "source": []
  }
 ],
 "metadata": {
  "kernelspec": {
   "display_name": "Python 3 (ipykernel)",
   "language": "python",
   "name": "python3"
  },
  "language_info": {
   "codemirror_mode": {
    "name": "ipython",
    "version": 3
   },
   "file_extension": ".py",
   "mimetype": "text/x-python",
   "name": "python",
   "nbconvert_exporter": "python",
   "pygments_lexer": "ipython3",
   "version": "3.7.16"
  }
 },
 "nbformat": 4,
 "nbformat_minor": 5
}
